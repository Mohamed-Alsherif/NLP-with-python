{
 "cells": [
  {
   "cell_type": "markdown",
   "id": "3336510f",
   "metadata": {},
   "source": [
    "# Text Normalization"
   ]
  },
  {
   "cell_type": "markdown",
   "id": "4e334548",
   "metadata": {},
   "source": [
    "- Normalization is the process of converting a token into its base form.\n",
    "- Two popular methods used for normalization:\n",
    "    - Stemming\n",
    "    - Lemmatization"
   ]
  },
  {
   "cell_type": "markdown",
   "id": "8e26c431",
   "metadata": {},
   "source": [
    "## Required_libraries"
   ]
  },
  {
   "cell_type": "code",
   "execution_count": 1,
   "id": "1e6a9d1d",
   "metadata": {},
   "outputs": [],
   "source": [
    "#pip install PorterStemmer"
   ]
  },
  {
   "cell_type": "code",
   "execution_count": 2,
   "id": "eeb01125",
   "metadata": {},
   "outputs": [],
   "source": [
    "# import nltk\n",
    "# nltk.download('wordnet')"
   ]
  },
  {
   "cell_type": "markdown",
   "id": "3398ae67",
   "metadata": {},
   "source": [
    "## Stemming"
   ]
  },
  {
   "cell_type": "markdown",
   "id": "6c2ec9ca",
   "metadata": {},
   "source": [
    "It is an elementary rule-based process for removing inflationary forms from a given token"
   ]
  },
  {
   "cell_type": "code",
   "execution_count": 3,
   "id": "50450464",
   "metadata": {},
   "outputs": [
    {
     "name": "stdout",
     "output_type": "stream",
     "text": [
      "file\n",
      "fli\n"
     ]
    }
   ],
   "source": [
    "from nltk.stem.porter import PorterStemmer\n",
    "stemmer = PorterStemmer()\n",
    "print(stemmer.stem(\"files\"))\n",
    "print(stemmer.stem(\"flies\"))"
   ]
  },
  {
   "cell_type": "code",
   "execution_count": 4,
   "id": "06a65ef9",
   "metadata": {},
   "outputs": [
    {
     "name": "stdout",
     "output_type": "stream",
     "text": [
      "سماء صاف\n",
      "جو جميل\n"
     ]
    }
   ],
   "source": [
    "from nltk.stem.snowball import SnowballStemmer\n",
    "ar_stemmer = SnowballStemmer(\"arabic\")\n",
    "print(ar_stemmer.stem(\"السماء صافية\"))\n",
    "print(ar_stemmer.stem(\"الجو جميل\"))"
   ]
  },
  {
   "cell_type": "markdown",
   "id": "70e70b18",
   "metadata": {},
   "source": [
    "## Lemmatization"
   ]
  },
  {
   "cell_type": "markdown",
   "id": "56afdb34",
   "metadata": {},
   "source": [
    "Lemmatization is a systematic process of removing the inflectional form of a token and transform it into a lemma."
   ]
  },
  {
   "cell_type": "code",
   "execution_count": 5,
   "id": "54c1d4cd",
   "metadata": {},
   "outputs": [
    {
     "name": "stdout",
     "output_type": "stream",
     "text": [
      "rock\n",
      "good\n"
     ]
    }
   ],
   "source": [
    "from nltk.stem import WordNetLemmatizer\n",
    "lemmatizer = WordNetLemmatizer()\n",
    "print(lemmatizer.lemmatize(\"rocks\"))\n",
    "print(lemmatizer.lemmatize(\"better\", pos =\"a\"))"
   ]
  },
  {
   "cell_type": "markdown",
   "id": "54a23b3f",
   "metadata": {},
   "source": [
    "## conclusion"
   ]
  },
  {
   "cell_type": "markdown",
   "id": "14c2a7b6",
   "metadata": {},
   "source": [
    "stemming sometime destroy the word unlike lemmatization where we keep the meaning."
   ]
  }
 ],
 "metadata": {
  "kernelspec": {
   "display_name": "Python 3 (ipykernel)",
   "language": "python",
   "name": "python3"
  },
  "language_info": {
   "codemirror_mode": {
    "name": "ipython",
    "version": 3
   },
   "file_extension": ".py",
   "mimetype": "text/x-python",
   "name": "python",
   "nbconvert_exporter": "python",
   "pygments_lexer": "ipython3",
   "version": "3.8.8"
  }
 },
 "nbformat": 4,
 "nbformat_minor": 5
}
