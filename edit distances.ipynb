{
 "cells": [
  {
   "cell_type": "markdown",
   "id": "f5bb2669",
   "metadata": {},
   "source": [
    "# Text Distance"
   ]
  },
  {
   "cell_type": "markdown",
   "id": "80847e9a",
   "metadata": {},
   "source": [
    "1- Levenshtein Distance\n",
    "2- Hamming Distance\n",
    "3- Damerau-Levenshtein Distance"
   ]
  },
  {
   "cell_type": "markdown",
   "id": "89dc8036",
   "metadata": {},
   "source": [
    "## Required_libraries"
   ]
  },
  {
   "cell_type": "code",
   "execution_count": 1,
   "id": "e0d374ca",
   "metadata": {},
   "outputs": [
    {
     "name": "stdout",
     "output_type": "stream",
     "text": [
      "Requirement already satisfied: jellyfish in c:\\users\\pc\\anaconda3\\lib\\site-packages (0.9.0)\n",
      "Note: you may need to restart the kernel to use updated packages.\n"
     ]
    }
   ],
   "source": [
    "pip install jellyfish"
   ]
  },
  {
   "cell_type": "code",
   "execution_count": 2,
   "id": "e105b5b6",
   "metadata": {},
   "outputs": [],
   "source": [
    "import jellyfish"
   ]
  },
  {
   "cell_type": "markdown",
   "id": "f223874a",
   "metadata": {},
   "source": [
    "## 1- Levenshtein Distance"
   ]
  },
  {
   "cell_type": "markdown",
   "id": "1fe8a957",
   "metadata": {},
   "source": [
    "- Levenshtein distance is a string metric for measuring the difference between two sequences.\n",
    "- The Levenshtein distance between two words is the minimum number of single-character edits (insertions \"Insert\", deletions \"delete\" or substitutions \"replace\") required to change one word into the other\n",
    "- The Levenshtein distance algorithm has been used in:\n",
    " (DNA analysis - Spell checking - Speech recognition - Plagiarism detection)"
   ]
  },
  {
   "cell_type": "code",
   "execution_count": 3,
   "id": "8af761cf",
   "metadata": {},
   "outputs": [
    {
     "data": {
      "text/plain": [
       "2"
      ]
     },
     "execution_count": 3,
     "metadata": {},
     "output_type": "execute_result"
    }
   ],
   "source": [
    "jellyfish.levenshtein_distance('jellyfish', 'smellyfish')"
   ]
  },
  {
   "cell_type": "code",
   "execution_count": 4,
   "id": "53fcdb6a",
   "metadata": {},
   "outputs": [
    {
     "data": {
      "text/plain": [
       "3"
      ]
     },
     "execution_count": 4,
     "metadata": {},
     "output_type": "execute_result"
    }
   ],
   "source": [
    "jellyfish.levenshtein_distance('saturday', 'sunday')"
   ]
  },
  {
   "cell_type": "markdown",
   "id": "d948b2cf",
   "metadata": {},
   "source": [
    "## 2- Hamming Distance"
   ]
  },
  {
   "cell_type": "markdown",
   "id": "e23d16f3",
   "metadata": {},
   "source": [
    "- Hamming Distance measures the similarity between two strings of the same length"
   ]
  },
  {
   "cell_type": "code",
   "execution_count": 5,
   "id": "0416b208",
   "metadata": {},
   "outputs": [
    {
     "data": {
      "text/plain": [
       "1"
      ]
     },
     "execution_count": 5,
     "metadata": {},
     "output_type": "execute_result"
    }
   ],
   "source": [
    "jellyfish.hamming_distance(\"cat\", \"rat\")"
   ]
  },
  {
   "cell_type": "code",
   "execution_count": 6,
   "id": "327c69cb",
   "metadata": {},
   "outputs": [
    {
     "data": {
      "text/plain": [
       "1"
      ]
     },
     "execution_count": 6,
     "metadata": {},
     "output_type": "execute_result"
    }
   ],
   "source": [
    "jellyfish.hamming_distance(\"set\", \"get\")"
   ]
  },
  {
   "cell_type": "markdown",
   "id": "a6f1d80f",
   "metadata": {},
   "source": [
    "## 3- Damerau-Levenshtein Distance"
   ]
  },
  {
   "cell_type": "markdown",
   "id": "d3b827d2",
   "metadata": {},
   "source": [
    "- Levenshtein distance is a string metric for measuring the difference between two sequences.\n",
    "The Levenshtein distance between two words is the minimum number of single-character edits (insertions \"Insert\", deletions \"delete\" or substitutions \"replace\" or transposition \"swap\") required to change one word into the other"
   ]
  },
  {
   "cell_type": "code",
   "execution_count": 7,
   "id": "a1915166",
   "metadata": {},
   "outputs": [
    {
     "data": {
      "text/plain": [
       "1"
      ]
     },
     "execution_count": 7,
     "metadata": {},
     "output_type": "execute_result"
    }
   ],
   "source": [
    "jellyfish.damerau_levenshtein_distance(u'jellyfish', u'jellyfihs')"
   ]
  },
  {
   "cell_type": "code",
   "execution_count": 8,
   "id": "36d96c66",
   "metadata": {},
   "outputs": [
    {
     "data": {
      "text/plain": [
       "3"
      ]
     },
     "execution_count": 8,
     "metadata": {},
     "output_type": "execute_result"
    }
   ],
   "source": [
    "jellyfish.levenshtein_distance('saturday', 'sunday')"
   ]
  },
  {
   "cell_type": "markdown",
   "id": "41d16d61",
   "metadata": {},
   "source": [
    "<End>"
   ]
  }
 ],
 "metadata": {
  "kernelspec": {
   "display_name": "Python 3 (ipykernel)",
   "language": "python",
   "name": "python3"
  },
  "language_info": {
   "codemirror_mode": {
    "name": "ipython",
    "version": 3
   },
   "file_extension": ".py",
   "mimetype": "text/x-python",
   "name": "python",
   "nbconvert_exporter": "python",
   "pygments_lexer": "ipython3",
   "version": "3.8.8"
  }
 },
 "nbformat": 4,
 "nbformat_minor": 5
}
